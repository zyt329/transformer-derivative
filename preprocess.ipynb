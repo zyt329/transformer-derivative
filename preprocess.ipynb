{
 "cells": [
  {
   "cell_type": "code",
   "execution_count": 1,
   "metadata": {},
   "outputs": [
    {
     "name": "stdout",
     "output_type": "stream",
     "text": [
      "['72exp^(9x)', '340exp^(17x)+18exp^(x)', '144exp^(12x)+180exp^(20x)', '26x+36x+100x^4+114x^5', '456exp^(19x)*x+24exp^(19x)']\n"
     ]
    }
   ],
   "source": [
    "import re\n",
    "\n",
    "# given original or target expression, return splitted\n",
    "def split_exprs(input, output):\n",
    "    input = input.strip()\n",
    "    input, var = input.split(\")/d\")\n",
    "\n",
    "    # exprs.append(expr[2:].replace(var, 'x'))\n",
    "    \n",
    "    input = input[2:]\n",
    "    # Step 1: Replace `exp`, `cos`, and `sin` with placeholders\n",
    "    input = input.replace('exp', 'E')\n",
    "    input = input.replace('cos', 'C')\n",
    "    input = input.replace('sin', 'S')\n",
    "    output = output.replace('exp', 'E')\n",
    "    output = output.replace('cos', 'C')\n",
    "    output = output.replace('sin', 'S')\n",
    "\n",
    "    # Step 2: Substitute `e`, `s`, `c` with 'x' (only where they’re standalone)\n",
    "    input = input.replace(var, 'x')\n",
    "    output = output.replace(var, 'x')\n",
    "\n",
    "    # Step 3: Restore the placeholders back to their original words\n",
    "    input = input.replace('E', 'exp')\n",
    "    input = input.replace('C', 'cos')\n",
    "    input = input.replace('S', 'sin')\n",
    "    output = output.replace('E', 'exp')\n",
    "    output = output.replace('C', 'cos')\n",
    "    output = output.replace('S', 'sin')\n",
    "\n",
    "    return input, output\n",
    "\n",
    "# read training data line by line\n",
    "def read_data(file):\n",
    "    inputs = []\n",
    "    outputs = []\n",
    "    with open(file, 'r') as f:\n",
    "        for i, line in enumerate(f):\n",
    "            line = line.strip()\n",
    "            \n",
    "            input, output = line.split('=')\n",
    "            input = input.strip()\n",
    "\n",
    "            # split original and target expression\n",
    "            input, output = split_exprs(input, output)\n",
    "            \n",
    "            inputs.append(input)\n",
    "            outputs.append(output)\n",
    "\n",
    "    return inputs, outputs\n",
    "\n",
    "print(read_data(\"train.txt\")[1][:5])"
   ]
  },
  {
   "cell_type": "code",
   "execution_count": 2,
   "metadata": {},
   "outputs": [
    {
     "name": "stdout",
     "output_type": "stream",
     "text": [
      "[['8', 'exp^(', '9', 'x', ')'], ['2', '0', 'exp^(', '1', '7', 'x', ')', '+', '1', '8', 'exp^(', 'x', ')'], ['1', '2', 'exp^(', '1', '2', 'x', ')', '+', '9', 'exp^(', '2', '0', 'x', ')'], ['1', '3', 'x', '^', '2', '+', '1', '8', 'x', '^', '2', '+', '2', '0', 'x', '^', '5', '+', '1', '9', 'x', '^', '6'], ['2', '4', 'exp^(', '1', '9', 'x', ')', '*', 'x']]\n",
      "[['7', '2', 'exp^(', '9', 'x', ')'], ['3', '4', '0', 'exp^(', '1', '7', 'x', ')', '+', '1', '8', 'exp^(', 'x', ')'], ['1', '4', '4', 'exp^(', '1', '2', 'x', ')', '+', '1', '8', '0', 'exp^(', '2', '0', 'x', ')'], ['2', '6', 'x', '+', '3', '6', 'x', '+', '1', '0', '0', 'x', '^', '4', '+', '1', '1', '4', 'x', '^', '5'], ['4', '5', '6', 'exp^(', '1', '9', 'x', ')', '*', 'x', '+', '2', '4', 'exp^(', '1', '9', 'x', ')']]\n"
     ]
    }
   ],
   "source": [
    "\n",
    "# break up the sequence to list of tokens\n",
    "def add_space(expr):\n",
    "    regex = '(exp\\^\\(|sin\\(|cos\\(|sin\\^|cos\\^|\\+|\\-|\\(|\\)|\\^|\\*|x|\\d)'\n",
    "    splitted = re.split(regex, expr)\n",
    "    splitted = [x for x in splitted if x is not None and x != '']\n",
    "    return splitted\n",
    "\n",
    "X = []\n",
    "y = []\n",
    "inputs, outputs = read_data(\"train.txt\")\n",
    "X = [add_space(expr) for expr in inputs]\n",
    "y = [add_space(expr) for expr in outputs]\n",
    "\n",
    "print(X[:5])\n",
    "print(y[:5])\n",
    "    "
   ]
  },
  {
   "cell_type": "code",
   "execution_count": 3,
   "metadata": {},
   "outputs": [
    {
     "name": "stdout",
     "output_type": "stream",
     "text": [
      "Input Vocabulary: {'^': 4, '[UNK]': 0, 's': 33, '3': 10, '[PAD]': 1, '8': 12, 'x': 2, 'i': 32, ')': 5, '1': 3, 'o': 36, 'exp^(': 6, 'r': 24, '2': 7, 'k': 34, '+': 8, 't': 30, '4': 9, 'v': 40, '6': 11, 'p': 28, '0': 13, 'u': 25, '5': 14, 'w': 38, '7': 15, 'y': 27, '9': 16, '*': 17, '(': 18, 'sin^': 19, 'cos^': 20, 'm': 41, '-': 21, 'cos(': 22, 'sin(': 23, 'b': 26, 'z': 29, 'a': 31, 'n': 35, 'c': 37, 'e': 39}\n",
      "Output Vocabulary: {'^': 5, '[UNK]': 0, 's': 33, '3': 14, '[PAD]': 1, 'p': 28, '0': 7, '8': 12, 'x': 2, 'i': 32, ')': 4, '1': 3, 'r': 24, '2': 6, '*': 8, 'o': 36, 'exp^(': 9, 't': 30, '4': 10, 'v': 40, '6': 11, 'k': 34, '+': 13, 'u': 25, '5': 15, 'w': 38, '7': 16, 'y': 27, '9': 17, '(': 18, 'cos(': 19, 'sin(': 20, 'm': 41, '-': 21, 'sin^': 22, 'cos^': 23, 'b': 26, 'z': 29, 'a': 31, 'n': 35, 'c': 37, 'e': 39}\n",
      "Encoded Inputs: [[12, 6, 16, 2, 5], [7, 13, 6, 3, 15, 2, 5, 8, 3, 12, 6, 2, 5], [3, 7, 6, 3, 7, 2, 5, 8, 16, 6, 7, 13, 2, 5], [3, 10, 2, 4, 7, 8, 3, 12, 2, 4, 7, 8, 7, 13, 2, 4, 14, 8, 3, 16, 2, 4, 11], [7, 9, 6, 3, 16, 2, 5, 17, 2]]\n",
      "Encoded Outputs: [[16, 6, 9, 17, 2, 4], [14, 10, 7, 9, 3, 16, 2, 4, 13, 3, 12, 9, 2, 4], [3, 10, 10, 9, 3, 6, 2, 4, 13, 3, 12, 7, 9, 6, 7, 2, 4], [6, 11, 2, 13, 14, 11, 2, 13, 3, 7, 7, 2, 5, 10, 13, 3, 3, 10, 2, 5, 15], [10, 15, 11, 9, 3, 17, 2, 4, 8, 2, 13, 6, 10, 9, 3, 17, 2, 4]]\n"
     ]
    },
    {
     "ename": "",
     "evalue": "",
     "output_type": "error",
     "traceback": [
      "\u001b[1;31mThe Kernel crashed while executing code in the current cell or a previous cell. \n",
      "\u001b[1;31mPlease review the code in the cell(s) to identify a possible cause of the failure. \n",
      "\u001b[1;31mClick <a href='https://aka.ms/vscodeJupyterKernelCrash'>here</a> for more info. \n",
      "\u001b[1;31mView Jupyter <a href='command:jupyter.viewOutput'>log</a> for further details."
     ]
    }
   ],
   "source": [
    "from torchtext.vocab import build_vocab_from_iterator\n",
    "\n",
    "# Build the vocabulary for input and output\n",
    "input_vocab = build_vocab_from_iterator(X, specials=[\"[UNK]\", \"[PAD]\"])\n",
    "input_vocab.set_default_index(input_vocab[\"[UNK]\"])  # Set default index for OOV tokens\n",
    "output_vocab = build_vocab_from_iterator(y, specials=[\"[UNK]\", \"[PAD]\"])\n",
    "output_vocab.set_default_index(output_vocab[\"[UNK]\"])  # Set default index for OOV tokens\n",
    "\n",
    "# Print vocabulary and integer encoding\n",
    "print(\"Input Vocabulary:\", input_vocab.get_stoi())      # stoi: string-to-integer mapping\n",
    "print(\"Output Vocabulary:\", output_vocab.get_stoi())    # stoi: string-to-integer mapping\n",
    "print(\"Encoded Inputs:\", [input_vocab(tokens) for tokens in X[:5]])  # Convert tokens to integer IDs\n",
    "print(\"Encoded Outputs:\", [output_vocab(tokens) for tokens in y[:5]])  # Convert tokens to integer IDs"
   ]
  },
  {
   "cell_type": "code",
   "execution_count": null,
   "metadata": {},
   "outputs": [],
   "source": []
  }
 ],
 "metadata": {
  "kernelspec": {
   "display_name": "base",
   "language": "python",
   "name": "python3"
  },
  "language_info": {
   "codemirror_mode": {
    "name": "ipython",
    "version": 3
   },
   "file_extension": ".py",
   "mimetype": "text/x-python",
   "name": "python",
   "nbconvert_exporter": "python",
   "pygments_lexer": "ipython3",
   "version": "3.7.6"
  }
 },
 "nbformat": 4,
 "nbformat_minor": 2
}
